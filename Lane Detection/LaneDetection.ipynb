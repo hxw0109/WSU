{
 "cells": [
  {
   "cell_type": "markdown",
   "metadata": {},
   "source": [
    "# Lane Detection\n",
    "\n",
    "\n",
    "---"
   ]
  },
  {
   "cell_type": "markdown",
   "metadata": {},
   "source": [
    "**The tools you have are color selection, region of interest selection, grayscaling, Gaussian smoothing, Canny Edge Detection and Hough Tranform line detection.  You  are also free to explore and try other techniques that were not presented in the lesson.  Your goal is piece together a pipeline to detect the line segments in the image, then average/extrapolate them and draw them onto the image for display (as below).  Once you have a working pipeline, try it out on the video stream below.**\n",
    "\n",
    "---\n",
    "\n",
    "<figure>\n",
    " <img src=\"examples/line-segments-example.jpg\" width=\"380\" alt=\"Combined Image\" />\n",
    " <figcaption>\n",
    " <p></p> \n",
    " <p style=\"text-align: center;\"> Your output should look something like this (above) after detecting line segments using the helper functions below </p> \n",
    " </figcaption>\n",
    "</figure>\n",
    " <p></p> \n",
    "<figure>\n",
    " <img src=\"examples/laneLines_thirdPass.jpg\" width=\"380\" alt=\"Combined Image\" />\n",
    " <figcaption>\n",
    " <p></p> \n",
    " <p style=\"text-align: center;\"> Your goal is to connect/average/extrapolate line segments to get output like this</p> \n",
    " </figcaption>\n",
    "</figure>"
   ]
  },
  {
   "cell_type": "markdown",
   "metadata": {},
   "source": [
    "### Ideas for Lane Detection Pipeline\n",
    "**Some Core OpenCV functions that might be useful for this project are:**<br />\n",
    "`cv2.Canny()` for Canny edge detection<br />\n",
    "`cv2.HoughLinesP` for Hough Line Detection<br />\n",
    "\n",
    "**Some other OpenCV functions that might be useful for this project are:**<br />\n",
    "`cv2.inRange()` for color selection  <br />\n",
    "`cv2.fillPoly()` for regions selection  <br />\n",
    "`cv2.line()` to draw lines on an image given endpoints  <br />\n",
    "`cv2.addWeighted()` to coadd / overlay two images<br />\n",
    "`cv2.cvtColor()` to grayscale or change color<br />\n",
    "`cv2.imwrite()` to output images to file  <br />\n",
    "`cv2.bitwise_and()` to apply a mask to an image<br />\n",
    "\n",
    "**Check out the OpenCV documentation to learn about these and discover even more awesome functionality!**"
   ]
  },
  {
   "cell_type": "markdown",
   "metadata": {},
   "source": [
    "## 0.Import Packages (Modules)\n",
    "---\n"
   ]
  },
  {
   "cell_type": "code",
   "execution_count": null,
   "metadata": {},
   "outputs": [],
   "source": [
    "import matplotlib.pyplot as plt\n",
    "import matplotlib.image as mpimg\n",
    "import math\n",
    "import numpy as np\n",
    "import cv2\n",
    "%matplotlib inline"
   ]
  },
  {
   "cell_type": "markdown",
   "metadata": {},
   "source": [
    "## 1.Read in an Image\n",
    "---"
   ]
  },
  {
   "cell_type": "code",
   "execution_count": null,
   "metadata": {},
   "outputs": [],
   "source": [
    "#reading in an image\n",
    "image_name = 'solidWhiteRight.jpg'\n",
    "image = mpimg.imread('test_images/'+image_name)\n",
    "\n",
    "# image = cv2.imread('test_images/solidWhiteRight.jpg')\n",
    "\n",
    "#printing out some stats and plotting\n",
    "print('This image is:', type(image), 'with dimensions:', image.shape)\n",
    "plt.imshow(image)  # if you wanted to show a single color channel image called 'gray', for example, call as plt.imshow(gray, cmap='gray')"
   ]
  },
  {
   "cell_type": "markdown",
   "metadata": {},
   "source": [
    "## 2.Grayscale Image\n",
    "[cv2.Canny()](https://docs.opencv.org/3.1.0/da/d22/tutorial_py_canny.html) for Canny edge detection<br />"
   ]
  },
  {
   "cell_type": "code",
   "execution_count": null,
   "metadata": {},
   "outputs": [],
   "source": [
    "def grayscale(img):\n",
    "    \"\"\"Applies the Grayscale transform\n",
    "    This will return an image with only one color channel\n",
    "    but NOTE: to see the returned image as grayscale\n",
    "    (assuming your grayscaled image is called 'gray')\n",
    "    you should call plt.imshow(gray, cmap='gray')\"\"\"\n",
    "    return cv2.cvtColor(img, cv2.COLOR_RGB2GRAY)\n",
    "    # Or use BGR2GRAY if you read an image with cv2.imread()\n",
    "    # return cv2.cvtColor(img, cv2.COLOR_BGR2GRAY)\n"
   ]
  },
  {
   "cell_type": "code",
   "execution_count": null,
   "metadata": {},
   "outputs": [],
   "source": [
    "gray_image = grayscale(image)\n",
    "print('This is gray image:', type(gray_image), 'with dimensions:', gray_image.shape)\n",
    "plt.imshow(gray_image, cmap='gray')"
   ]
  },
  {
   "cell_type": "markdown",
   "metadata": {},
   "source": [
    "## 3. Edge Detection\n",
    "[cv2.Canny()](https://docs.opencv.org/3.1.0/da/d22/tutorial_py_canny.html) for Canny edge detection<br />\n",
    "[cv2.GaussianBlur](https://docs.opencv.org/3.1.0/d4/d13/tutorial_py_filtering.html) for Gaussian Blur<br />\n",
    "\n"
   ]
  },
  {
   "cell_type": "code",
   "execution_count": null,
   "metadata": {},
   "outputs": [],
   "source": [
    "def gaussian_blur(img, kernel_size):\n",
    "    \"\"\"Applies a Gaussian Noise kernel\"\"\"\n",
    "    return cv2.GaussianBlur(img, (kernel_size, kernel_size), 0)\n",
    "\n",
    "\n",
    "def canny(img, low_threshold, high_threshold):\n",
    "    \"\"\"Applies the Canny transform\"\"\"\n",
    "    return cv2.Canny(img, low_threshold, high_threshold)"
   ]
  },
  {
   "cell_type": "code",
   "execution_count": null,
   "metadata": {
    "scrolled": true
   },
   "outputs": [],
   "source": [
    "# do Gaussian Blur on gray image\n",
    "kernel_size = 5\n",
    "blur_gray = gaussian_blur(gray_image, kernel_size)\n",
    "\n",
    "# do Canny edge detection\n",
    "low_threshold = 50\n",
    "high_threshold = 150\n",
    "edges = canny(blur_gray, low_threshold, high_threshold)\n",
    "\n",
    "\n",
    "print('This is detected edges with dimensions:', edges.shape)\n",
    "# plt.imshow(blur_gray, cmap='gray')\n",
    "plt.imshow(edges, cmap='gray')"
   ]
  },
  {
   "cell_type": "markdown",
   "metadata": {},
   "source": [
    "## 4.Create Masks (Region of Interest)\n",
    "[cv2.fillPoly()](https://docs.opencv.org/3.0-beta/modules/imgproc/doc/drawing_functions.html) for Canny edge detection<br />"
   ]
  },
  {
   "cell_type": "code",
   "execution_count": null,
   "metadata": {},
   "outputs": [],
   "source": [
    "def region_of_interest(img, vertices):\n",
    "    \"\"\"\n",
    "    Applies an image mask.\n",
    "    \n",
    "    Only keeps the region of the image defined by the polygon\n",
    "    formed from `vertices`. The rest of the image is set to black.\n",
    "    \"\"\"\n",
    "    #defining a blank mask to start with\n",
    "    mask = np.zeros_like(img)   \n",
    "    \n",
    "    #defining a 3 channel or 1 channel color to fill the mask with depending on the input image\n",
    "    if len(img.shape) > 2:\n",
    "        channel_count = img.shape[2]  # i.e. 3 or 4 depending on your image\n",
    "        ignore_mask_color = (255,) * channel_count\n",
    "    else:\n",
    "        ignore_mask_color = 255\n",
    "        \n",
    "    #filling pixels inside the polygon defined by \"vertices\" with the fill color    \n",
    "    mask = cv2.fillPoly(mask, vertices, ignore_mask_color)\n",
    "    \n",
    "    #returning the image only where mask pixels are nonzero\n",
    "    masked_image = cv2.bitwise_and(img, mask)\n",
    "    return masked_image, mask\n"
   ]
  },
  {
   "cell_type": "code",
   "execution_count": null,
   "metadata": {},
   "outputs": [],
   "source": [
    "# Create mask image using cv2.fillPoly()\n",
    "imshape = image.shape\n",
    "vertices = np.array([[(0,imshape[0]),(int(imshape[1]/2-50),int(imshape[0]/2+60)), (int(imshape[1]/2+50),int(imshape[0]/2+60)), (imshape[1],imshape[0])]], dtype=np.int32)\n",
    "masked_edges, mask = region_of_interest(edges, vertices)\n",
    "\n",
    "print('This is the mask image with dimensions:', masked_edges.shape)\n",
    "# plt.imshow(mask, cmap='gray')\n",
    "plt.imshow(masked_edges, cmap='gray')\n"
   ]
  },
  {
   "cell_type": "markdown",
   "metadata": {},
   "source": [
    "## 5.Houghline Transformation\n",
    "[cv2.HoughLinesP](https://docs.opencv.org/3.0-beta/doc/py_tutorials/py_imgproc/py_houghlines/py_houghlines.html) for Hough Line Detection<br />"
   ]
  },
  {
   "cell_type": "code",
   "execution_count": null,
   "metadata": {},
   "outputs": [],
   "source": [
    "def draw_lines_polyfit(img,lines,color=[255,0,0],thickness=3):\n",
    "    \"\"\"\n",
    "    NOTE: this is the function you might want to use as a starting point once you want to \n",
    "    average/extrapolate the line segments you detect to map out the full\n",
    "    extent of the lane.  \n",
    "    \n",
    "    Think about things like separating line segments by their \n",
    "    slope ((y2-y1)/(x2-x1)) to decide which segments are part of the left\n",
    "    line vs. the right line.  Then, you can average the position of each of \n",
    "    the lines and extrapolate to the top and bottom of the lane.\n",
    "    \n",
    "    This function draws `lines` with `color` and `thickness`.    \n",
    "    Lines are drawn on the image inplace (mutates the image).\n",
    "    If you want to make the lines semi-transparent, think about combining\n",
    "    this function with the weighted_img() function below\n",
    "    \"\"\"\n",
    "    leftline = [[],[]]\n",
    "    rightline = [[],[]]\n",
    "    frame_top = int(img.shape[0]/2+60)\n",
    "    frame_bottom = int(img.shape[0])\n",
    "    \n",
    "    for line in lines:\n",
    "        for x1,y1,x2,y2 in line:\n",
    "#             cv2.line(img, (x1, y1), (x2, y2), color, thickness)\n",
    "            slope_temp = slope(x1,y1,x2,y2)\n",
    "            \n",
    "            if slope_temp < -0.5 and slope_temp > -0.8:\n",
    "                leftline[0].append(x1)\n",
    "                leftline[0].append(x2)\n",
    "                leftline[1].append(y1)\n",
    "                leftline[1].append(y2)\n",
    "\n",
    "            elif slope_temp > 0.5 and slope_temp < 0.8:\n",
    "                rightline[0].append(x1)\n",
    "                rightline[0].append(x2)\n",
    "                rightline[1].append(y1)\n",
    "                rightline[1].append(y2)\n",
    "                \n",
    "    y1 = frame_bottom\n",
    "    y2 = frame_top          \n",
    "    if len(leftline[0])>=2:\n",
    "   \n",
    "        leftline_fit = np.polyfit(leftline[0],leftline[1],1)\n",
    "        x1_left = int((y1-leftline_fit[1])/leftline_fit[0])\n",
    "        x2_left = int((y2-leftline_fit[1])/leftline_fit[0])\n",
    "        cv2.line(img, (x1_left, y1), (x2_left, y2), color, thickness)\n",
    "\n",
    "    if len(rightline[0])>=2:\n",
    "        rightline_fit = np.polyfit(rightline[0],rightline[1],1)\n",
    "        x1_right = int((y1-rightline_fit[1])/rightline_fit[0])\n",
    "        x2_right = int((y2-rightline_fit[1])/rightline_fit[0])\n",
    "        cv2.line(img, (x1_right, y1), (x2_right, y2), color, thickness)\n",
    "                \n",
    "def draw_lines(img, lines, color=[255, 0, 0], thickness=2):\n",
    "    \"\"\"\n",
    "    NOTE: this is the function you might want to use as a starting point once you want to \n",
    "    average/extrapolate the line segments you detect to map out the full\n",
    "    extent of the lane (going from the result shown in raw-lines-example.mp4\n",
    "    to that shown in P1_example.mp4).  \n",
    "    \n",
    "    Think about things like separating line segments by their \n",
    "    slope ((y2-y1)/(x2-x1)) to decide which segments are part of the left\n",
    "    line vs. the right line.  Then, you can average the position of each of \n",
    "    the lines and extrapolate to the top and bottom of the lane.\n",
    "    \n",
    "    This function draws `lines` with `color` and `thickness`.    \n",
    "    Lines are drawn on the image inplace (mutates the image).\n",
    "    If you want to make the lines semi-transparent, think about combining\n",
    "    this function with the weighted_img() function below\n",
    "    \"\"\"\n",
    "    \n",
    "    for line in lines:\n",
    "        for x1,y1,x2,y2 in line:\n",
    "            cv2.line(img, (x1, y1), (x2, y2), color, thickness)\n",
    "            \n",
    "\n",
    "    \n",
    "def slope(x1,y1,x2,y2):\n",
    "    return (y2-y1)/(x2-x1)\n",
    "    \n",
    "    \n",
    "def hough_lines(img, rho, theta, threshold, min_line_len, max_line_gap):\n",
    "    \"\"\"\n",
    "    `img` should be the output of a Canny transform.\n",
    "        \n",
    "    Returns an image with hough lines drawn.\n",
    "    \"\"\"\n",
    "    lines = cv2.HoughLinesP(img, rho, theta, threshold, np.array([]), minLineLength=min_line_len, maxLineGap=max_line_gap)\n",
    "    line_img = np.zeros((img.shape[0], img.shape[1], 3), dtype=np.uint8)\n",
    "    draw_lines(line_img, lines)\n",
    "    return line_img\n",
    "\n",
    "def hough_lines_extrapolate(img, rho, theta, threshold, min_line_len, max_line_gap):\n",
    "    lines = cv2.HoughLinesP(img, rho, theta, threshold, np.array([]), minLineLength=min_line_len, maxLineGap=max_line_gap)\n",
    "    line_img = np.zeros((img.shape[0], img.shape[1], 3), dtype=np.uint8)\n",
    "    draw_lines_polyfit(line_img, lines)\n",
    "    return line_img\n",
    "\n",
    "\n",
    "# Python 3 has support for cool math symbols.\n",
    "def weighted_img(img, initial_img, α=0.8, β=1., λ=0.):\n",
    "    \"\"\"\n",
    "    `img` is the output of the hough_lines(), An image with lines drawn on it.\n",
    "    Should be a blank image (all black) with lines drawn on it.\n",
    "    \n",
    "    `initial_img` should be the image before any processing.\n",
    "    \n",
    "    The result image is computed as follows:\n",
    "    \n",
    "    initial_img * α + img * β + λ\n",
    "    NOTE: initial_img and img must be the same shape!\n",
    "    \"\"\"\n",
    "    return cv2.addWeighted(initial_img, α, img, β, λ)"
   ]
  },
  {
   "cell_type": "code",
   "execution_count": null,
   "metadata": {},
   "outputs": [],
   "source": [
    "rho = 1 #distance resolution in pixels of the Hough grid\n",
    "theta = np.pi/180 #angular resolution in radians of hough grid\n",
    "threshold = 12 #minimum number of votes\n",
    "min_line_length = 12 #minimum number of pixels making up a line\n",
    "max_line_gap = 2 #max number of pixels between two line segment\n",
    "    \n",
    "line_image = np.copy(image)*0 #creating a blank to draw lines on\n",
    "\n",
    "\n",
    "# color_edges = hough_lines(masked_edges, rho, theta, threshold, min_line_length, max_line_gap)\n",
    "    \n",
    "color_edges = hough_lines_extrapolate(masked_edges, rho, theta, threshold, min_line_length, max_line_gap)\n",
    "\n",
    "result_image = weighted_img(color_edges, image, α=0.7, β=1., λ=0.)\n",
    "#     result_image = color_edges\n",
    "plt.imshow(result_image)\n",
    "plt.imsave('test_images_output/'+image_name, result_image)"
   ]
  },
  {
   "cell_type": "markdown",
   "metadata": {},
   "source": [
    "## 6.Final Pipeline\n",
    "Build the pipeline and run your solution on all test_images. Make copies into the `test_images_output` directory, and you can use the images in your writeup report.\n",
    "\n",
    "Try tuning the various parameters, especially the low and high Canny thresholds as well as the Hough lines parameters."
   ]
  },
  {
   "cell_type": "code",
   "execution_count": null,
   "metadata": {},
   "outputs": [],
   "source": [
    "import os\n",
    "image_names = os.listdir(\"test_images/\")\n",
    "print(image_names)\n"
   ]
  },
  {
   "cell_type": "code",
   "execution_count": null,
   "metadata": {},
   "outputs": [],
   "source": [
    "# TODO: Build your pipeline that will draw lane lines on the test_images\n",
    "\n",
    "# Loop through images\n",
    "for i in range(len(image_names)):\n",
    "    image_name = image_names[i]\n",
    "    image = mpimg.imread('test_images/'+image_name)\n",
    "    \n",
    "    # make gray image\n",
    "    gray = grayscale(image)\n",
    "\n",
    "    # do Gaussian Blur on gray image\n",
    "    kernel_size = 5\n",
    "    blur_gray = gaussian_blur(gray, kernel_size)\n",
    "    \n",
    "    # do Canny edge detection\n",
    "    low_threshold = 50\n",
    "    high_threshold = 150\n",
    "    edges = canny(blur_gray, low_threshold, high_threshold)\n",
    "\n",
    "    # Create mask image using cv2.fillPoly()\n",
    "    imshape = image.shape\n",
    "    vertices = np.array([[(0,imshape[0]),(int(imshape[1]/2-50),int(imshape[0]/2+60)), (int(imshape[1]/2+50),int(imshape[0]/2+60)), (imshape[1],imshape[0])]], dtype=np.int32)\n",
    "    masked_edges, mask = region_of_interest(edges, vertices)\n",
    "\n",
    "    # Define the Hough transform parameters\n",
    "    # Make a blank the same size as our image to draw on\n",
    "    \n",
    "    rho = 1 #distance resolution in pixels of the Hough grid\n",
    "    theta = np.pi/180 #angular resolution in radians of hough grid\n",
    "    threshold = 12 #minimum number of votes\n",
    "    min_line_length = 12 #minimum number of pixels making up a line\n",
    "    max_line_gap = 2 #max number of pixels between two line segment\n",
    "    \n",
    "    line_image = np.copy(image)*0 #creating a blank to draw lines on\n",
    "\n",
    "#     color_edges = hough_lines(masked_edges, rho, theta, threshold, min_line_length, max_line_gap)\n",
    "    \n",
    "    color_edges = hough_lines_extrapolate(masked_edges, rho, theta, threshold, min_line_length, max_line_gap)\n",
    "\n",
    "    result_image = weighted_img(color_edges, image, α=0.7, β=1., λ=0.)\n",
    "#     result_image = color_edges\n",
    "    # plt.imshow(image)\n",
    "    plt.imsave('test_images_output/'+image_name,result_image)\n",
    "\n",
    "print (\"Saved\")"
   ]
  },
  {
   "cell_type": "markdown",
   "metadata": {},
   "source": [
    "## 7.Test on Videos\n",
    "\n",
    "You know what's cooler than drawing lanes over images? Drawing lanes over video!\n",
    "\n",
    "We can test our solution on two provided videos:\n",
    "\n",
    "`solidWhiteRight.mp4`\n",
    "\n",
    "`solidYellowLeft.mp4`\n",
    "\n",
    "**Note: if you get an import error when you run the next cell, try changing your kernel (select the Kernel menu above --> Change Kernel). Still have problems? Try relaunching Jupyter Notebook from the terminal prompt. Also, consult the forums for more troubleshooting tips.**\n",
    "\n",
    "**If you get an error that looks like this:**\n",
    "```\n",
    "NeedDownloadError: Need ffmpeg exe. \n",
    "You can download it by calling: \n",
    "imageio.plugins.ffmpeg.download()\n",
    "```\n",
    "**Follow the instructions in the error message and check out [this forum post](https://discussions.udacity.com/t/project-error-of-test-on-videos/274082) for more troubleshooting tips across operating systems.**"
   ]
  },
  {
   "cell_type": "code",
   "execution_count": null,
   "metadata": {},
   "outputs": [],
   "source": [
    "# Import everything needed to edit/save/watch video clips\n",
    "from moviepy.editor import VideoFileClip\n",
    "from IPython.display import HTML\n"
   ]
  },
  {
   "cell_type": "code",
   "execution_count": null,
   "metadata": {},
   "outputs": [],
   "source": [
    "def process_image(image):\n",
    "    # NOTE: The output you return should be a color image (3 channel) for processing video below\n",
    "    # TODO: put your pipeline here,\n",
    "    # you should return the final output (image where lines are drawn on lanes)\n",
    "\n",
    "    # make gray image\n",
    "    gray = grayscale(image)\n",
    "\n",
    "    # do Gaussian Blur on gray image\n",
    "    kernel_size = 5\n",
    "    blur_gray = gaussian_blur(gray,kernel_size)\n",
    "\n",
    "    # do Canny edge detection\n",
    "    low_threshold = 50\n",
    "    high_threshold = 150\n",
    "    edges = canny(blur_gray, low_threshold, high_threshold)\n",
    "\n",
    "    # Create mask image using cv2.fillPoly()\n",
    "    imshape = image.shape\n",
    "    vertices = np.array([[(0,imshape[0]),(int(imshape[1]/2-50),int(imshape[0]/2+60)), (int(imshape[1]/2+50),int(imshape[0]/2+60)), (imshape[1],imshape[0])]], dtype=np.int32)\n",
    "    masked_edges, mask = region_of_interest(edges, vertices)\n",
    "    \n",
    "    # Define the Hough transform parameters\n",
    "    # Make a blank the same size as our image to draw on\n",
    "    rho = 1\n",
    "    theta = np.pi/180\n",
    "    threshold = 12\n",
    "    min_line_length = 12\n",
    "    max_line_gap = 2\n",
    "    line_image = np.copy(image)*0 #creating a blank to draw lines on\n",
    "\n",
    "    color_edges = hough_lines_extrapolate(masked_edges, rho, theta, threshold, min_line_length, max_line_gap)\n",
    "    result = weighted_img(color_edges, image, α=0.6, β=1., λ=0.)\n",
    "    \n",
    "    return result"
   ]
  },
  {
   "cell_type": "markdown",
   "metadata": {},
   "source": [
    "Let's try the one with the solid white lane on the right first ..."
   ]
  },
  {
   "cell_type": "code",
   "execution_count": null,
   "metadata": {},
   "outputs": [],
   "source": [
    "white_output = 'test_videos_output/solidWhiteRight.mp4'\n",
    "## To speed up the testing process you may want to try your pipeline on a shorter subclip of the video\n",
    "## To do so add .subclip(start_second,end_second) to the end of the line below\n",
    "## Where start_second and end_second are integer values representing the start and end of the subclip\n",
    "## You may also uncomment the following line for a subclip of the first 5 seconds\n",
    "\n",
    "\n",
    "clip1 = VideoFileClip(\"test_videos/solidWhiteRight.mp4\").subclip(0,2)\n",
    "\n",
    "# clip1 = VideoFileClip(\"test_videos/solidWhiteRight.mp4\")\n",
    "\n",
    "white_clip = clip1.fl_image(process_image) #NOTE: this function expects color images!!\n",
    "\n",
    "%time white_clip.write_videofile(white_output, audio=False)"
   ]
  },
  {
   "cell_type": "markdown",
   "metadata": {},
   "source": [
    "Play the video inline, or if you prefer find the video in your filesystem (should be in the same directory) and play it in your video player of choice."
   ]
  },
  {
   "cell_type": "code",
   "execution_count": null,
   "metadata": {},
   "outputs": [],
   "source": [
    "HTML(\"\"\"\n",
    "<video width=\"960\" height=\"540\" controls>\n",
    "  <source src=\"{0}\">\n",
    "</video>\n",
    "\"\"\".format(white_output))"
   ]
  },
  {
   "cell_type": "markdown",
   "metadata": {},
   "source": [
    "Now for the one with the solid yellow lane on the left. This one's more tricky!"
   ]
  },
  {
   "cell_type": "code",
   "execution_count": null,
   "metadata": {},
   "outputs": [],
   "source": [
    "yellow_output = 'test_videos_output/solidYellowLeft.mp4'\n",
    "## To speed up the testing process you may want to try your pipeline on a shorter subclip of the video\n",
    "## To do so add .subclip(start_second,end_second) to the end of the line below\n",
    "## Where start_second and end_second are integer values representing the start and end of the subclip\n",
    "## You may also uncomment the following line for a subclip of the first 5 seconds\n",
    "##clip2 = VideoFileClip('test_videos/solidYellowLeft.mp4').subclip(0,5)\n",
    "clip2 = VideoFileClip('test_videos/solidYellowLeft.mp4')\n",
    "yellow_clip = clip2.fl_image(process_image)\n",
    "%time yellow_clip.write_videofile(yellow_output, audio=False)"
   ]
  },
  {
   "cell_type": "code",
   "execution_count": null,
   "metadata": {},
   "outputs": [],
   "source": [
    "HTML(\"\"\"\n",
    "<video width=\"960\" height=\"540\" controls>\n",
    "  <source src=\"{0}\">\n",
    "</video>\n",
    "\"\"\".format(yellow_output))"
   ]
  },
  {
   "cell_type": "code",
   "execution_count": null,
   "metadata": {
    "scrolled": true
   },
   "outputs": [],
   "source": [
    "HTML(\"\"\"\n",
    "<video width=\"960\" height=\"540\" controls>\n",
    "  <source src=\"{0}\">\n",
    "</video>\n",
    "\"\"\".format(challenge_output))"
   ]
  },
  {
   "cell_type": "code",
   "execution_count": null,
   "metadata": {},
   "outputs": [],
   "source": []
  }
 ],
 "metadata": {
  "anaconda-cloud": {},
  "kernelspec": {
   "display_name": "Python 3",
   "language": "python",
   "name": "python3"
  },
  "language_info": {
   "codemirror_mode": {
    "name": "ipython",
    "version": 3
   },
   "file_extension": ".py",
   "mimetype": "text/x-python",
   "name": "python",
   "nbconvert_exporter": "python",
   "pygments_lexer": "ipython3",
   "version": "3.5.2"
  },
  "widgets": {
   "state": {},
   "version": "1.1.2"
  }
 },
 "nbformat": 4,
 "nbformat_minor": 1
}
